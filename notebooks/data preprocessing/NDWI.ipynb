{
  "nbformat": 4,
  "nbformat_minor": 0,
  "metadata": {
    "colab": {
      "provenance": []
    },
    "kernelspec": {
      "name": "python3",
      "display_name": "Python 3"
    },
    "language_info": {
      "name": "python"
    }
  },
  "cells": [
    {
      "cell_type": "markdown",
      "source": [
        "### Auth"
      ],
      "metadata": {
        "id": "4c5toxkBmw9j"
      }
    },
    {
      "cell_type": "code",
      "source": [
        "import ee\n",
        "\n",
        "# Trigger the authentication flow.\n",
        "ee.Authenticate()\n",
        "\n",
        "# Initialize the library.\n",
        "ee.Initialize(project='ee-shrgnn')"
      ],
      "metadata": {
        "id": "Twt4SsaHmv9b"
      },
      "execution_count": null,
      "outputs": []
    },
    {
      "cell_type": "markdown",
      "source": [
        "### ROI"
      ],
      "metadata": {
        "id": "9y6WexbLtfs1"
      }
    },
    {
      "cell_type": "code",
      "source": [
        "from pyproj import Proj, transform\n",
        "\n",
        "# Define the EPSG code for EPSG:32637 (UTM Zone 37N) and WGS84\n",
        "epsg_32637 = Proj(init='epsg:32637')\n",
        "wgs84 = Proj(init='epsg:4326')\n",
        "\n",
        "# Coordinates in EPSG:32637\n",
        "x1, y1 = 647500, 5766000\n",
        "x2, y2 = 651000, 5770000\n",
        "\n",
        "# Convert EPSG:32637 coordinates to WGS84\n",
        "lon1, lat1 = transform(epsg_32637, wgs84, x1, y1)\n",
        "lon2, lat2 = transform(epsg_32637, wgs84, x2, y2)\n",
        "\n",
        "region = ee.Geometry.Polygon(\n",
        "  [[[lon1, lat2],\n",
        "    [lon1, lat1],\n",
        "    [lon2, lat1],\n",
        "    [lon2, lat2]]], None, False)\n"
      ],
      "metadata": {
        "colab": {
          "base_uri": "https://localhost:8080/"
        },
        "id": "VUHLUZvLmnMR",
        "outputId": "f12f0924-68c2-4c32-e031-0eec88508b1b"
      },
      "execution_count": null,
      "outputs": [
        {
          "output_type": "stream",
          "name": "stderr",
          "text": [
            "/usr/local/lib/python3.10/dist-packages/pyproj/crs/crs.py:141: FutureWarning: '+init=<authority>:<code>' syntax is deprecated. '<authority>:<code>' is the preferred initialization method. When making the change, be mindful of axis order changes: https://pyproj4.github.io/pyproj/stable/gotchas.html#axis-order-changes-in-proj-6\n",
            "  in_crs_string = _prepare_from_proj_string(in_crs_string)\n",
            "/usr/local/lib/python3.10/dist-packages/pyproj/crs/crs.py:141: FutureWarning: '+init=<authority>:<code>' syntax is deprecated. '<authority>:<code>' is the preferred initialization method. When making the change, be mindful of axis order changes: https://pyproj4.github.io/pyproj/stable/gotchas.html#axis-order-changes-in-proj-6\n",
            "  in_crs_string = _prepare_from_proj_string(in_crs_string)\n",
            "<ipython-input-3-1eea8e714a21>:12: FutureWarning: This function is deprecated. See: https://pyproj4.github.io/pyproj/stable/gotchas.html#upgrading-to-pyproj-2-from-pyproj-1\n",
            "  lon1, lat1 = transform(epsg_32637, wgs84, x1, y1)\n",
            "<ipython-input-3-1eea8e714a21>:13: FutureWarning: This function is deprecated. See: https://pyproj4.github.io/pyproj/stable/gotchas.html#upgrading-to-pyproj-2-from-pyproj-1\n",
            "  lon2, lat2 = transform(epsg_32637, wgs84, x2, y2)\n"
          ]
        }
      ]
    },
    {
      "cell_type": "markdown",
      "source": [
        "NDWI"
      ],
      "metadata": {
        "id": "Y_I-I7MLzWkB"
      }
    },
    {
      "cell_type": "code",
      "execution_count": null,
      "metadata": {
        "colab": {
          "base_uri": "https://localhost:8080/"
        },
        "id": "g0rLxkYwzWH6",
        "outputId": "0aa3c787-814f-4b58-a949-1591092d84f4"
      },
      "outputs": [
        {
          "output_type": "stream",
          "name": "stdout",
          "text": [
            "Exporting median NDWI image to Google Drive...\n"
          ]
        }
      ],
      "source": [
        "import ee\n",
        "\n",
        "# Initialize the Earth Engine library\n",
        "ee.Initialize()\n",
        "\n",
        "# Define the region of interest (ROI)\n",
        "roi = region\n",
        "# Function to compute NDWI\n",
        "def computeNDWI(image):\n",
        "    ndwi = image.normalizedDifference(['B3', 'B8']).rename('NDWI')\n",
        "    return image.addBands(ndwi)\n",
        "\n",
        "# Sentinel-2 collection\n",
        "s2_sr = ee.ImageCollection('COPERNICUS/S2_SR_HARMONIZED') \\\n",
        "    .filterBounds(roi) \\\n",
        "    .filterDate('2019-04-01', '2023-05-05') \\\n",
        "    .map(computeNDWI)\n",
        "\n",
        "# Filter for April images\n",
        "april_images = s2_sr.filter(ee.Filter.calendarRange(4, 4, 'month'))\n",
        "\n",
        "# Compute median NDWI for each April\n",
        "median_ndwi_april = april_images.median()\n",
        "\n",
        "# Export the median NDWI image to Google Drive\n",
        "task = ee.batch.Export.image.toDrive(\n",
        "    image=median_ndwi_april.toFloat(),\n",
        "    description='median_ndwi_april',\n",
        "    folder='GEE_exports',\n",
        "    region=roi,\n",
        "    scale=10  # Adjust the scale as needed\n",
        ")\n",
        "\n",
        "# Start the export task\n",
        "task.start()\n",
        "\n",
        "# Print task status\n",
        "print('Exporting median NDWI image to Google Drive...')\n"
      ]
    }
  ]
}